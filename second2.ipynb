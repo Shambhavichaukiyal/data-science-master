{
 "cells": [
  {
   "cell_type": "markdown",
   "id": "d2d5ec6a-d186-43ea-8ee7-da3b9fd61529",
   "metadata": {},
   "source": [
    "#logical operator\n",
    "##And\n",
    "##or\n",
    "##not"
   ]
  },
  {
   "cell_type": "code",
   "execution_count": 1,
   "id": "f4548677-0271-4df7-8923-fcf319a8fff7",
   "metadata": {},
   "outputs": [
    {
     "data": {
      "text/plain": [
       "False"
      ]
     },
     "execution_count": 1,
     "metadata": {},
     "output_type": "execute_result"
    }
   ],
   "source": [
    "True and False"
   ]
  },
  {
   "cell_type": "code",
   "execution_count": 2,
   "id": "9f6d4c56-1b41-4dc1-b644-ccd079f3bd0f",
   "metadata": {},
   "outputs": [
    {
     "data": {
      "text/plain": [
       "False"
      ]
     },
     "execution_count": 2,
     "metadata": {},
     "output_type": "execute_result"
    }
   ],
   "source": [
    "not True"
   ]
  },
  {
   "cell_type": "code",
   "execution_count": 3,
   "id": "18599e3f-5936-439a-bb6c-a6727c96f390",
   "metadata": {},
   "outputs": [
    {
     "data": {
      "text/plain": [
       "True"
      ]
     },
     "execution_count": 3,
     "metadata": {},
     "output_type": "execute_result"
    }
   ],
   "source": [
    "False or True"
   ]
  },
  {
   "cell_type": "code",
   "execution_count": 1,
   "id": "73903e37-dcb8-461f-bd14-05d17283ab74",
   "metadata": {},
   "outputs": [
    {
     "name": "stdout",
     "output_type": "stream",
     "text": [
      "139739989648704\n",
      "139739989648448\n"
     ]
    }
   ],
   "source": [
    "lst_a=[1,2,3,4]\n",
    "lst_b=[1,2,3,4]\n",
    "print(id(lst_a))\n",
    "print(id(lst_b))"
   ]
  },
  {
   "cell_type": "code",
   "execution_count": 1,
   "id": "9e860e94-e21c-4fee-a482-4d240422b129",
   "metadata": {},
   "outputs": [
    {
     "name": "stdout",
     "output_type": "stream",
     "text": [
      "139980031673968\n",
      "139980031673968\n"
     ]
    }
   ],
   "source": [
    "str='90'\n",
    "str2='90'\n",
    "print(id(str))\n",
    "print(id(str2))"
   ]
  },
  {
   "cell_type": "markdown",
   "id": "b50a0e0d-ec4b-429f-847e-76c26f6c3be9",
   "metadata": {},
   "source": [
    "#COMPARISON OPERATION#\n"
   ]
  },
  {
   "cell_type": "code",
   "execution_count": 6,
   "id": "eee23e2a-6a64-4034-8985-f2c011845e53",
   "metadata": {},
   "outputs": [
    {
     "name": "stdout",
     "output_type": "stream",
     "text": [
      "True\n",
      "False\n"
     ]
    }
   ],
   "source": [
    "a=10\n",
    "b=20\n",
    "print(a<b)\n",
    "print(a>b)"
   ]
  },
  {
   "cell_type": "code",
   "execution_count": 5,
   "id": "2422d187-936d-481e-8a1f-defe183bbccc",
   "metadata": {},
   "outputs": [
    {
     "name": "stdout",
     "output_type": "stream",
     "text": [
      "11.2\n",
      "11\n",
      "1\n",
      "61\n",
      "51\n"
     ]
    }
   ],
   "source": [
    "a=56\n",
    "b=5\n",
    "print(a/b)\n",
    "print(a//b)\n",
    "print(a%b)\n",
    "print(a+b)\n",
    "print(a-b)"
   ]
  },
  {
   "cell_type": "markdown",
   "id": "faf44e2c-bc84-4a0b-b18e-e23a10e482df",
   "metadata": {},
   "source": [
    "#BITWISE OPERATOR"
   ]
  },
  {
   "cell_type": "code",
   "execution_count": 7,
   "id": "77738113-86a5-4896-812d-600b02dedf33",
   "metadata": {},
   "outputs": [
    {
     "data": {
      "text/plain": [
       "'0b1010'"
      ]
     },
     "execution_count": 7,
     "metadata": {},
     "output_type": "execute_result"
    }
   ],
   "source": [
    "var=10\n",
    "bin(var)"
   ]
  },
  {
   "cell_type": "code",
   "execution_count": 9,
   "id": "a83c0200-c13e-4de0-b8a3-ad27de77e242",
   "metadata": {},
   "outputs": [
    {
     "data": {
      "text/plain": [
       "-11"
      ]
     },
     "execution_count": 9,
     "metadata": {},
     "output_type": "execute_result"
    }
   ],
   "source": [
    "~(var)\n"
   ]
  },
  {
   "cell_type": "code",
   "execution_count": 10,
   "id": "cb20c43e-0f5f-41b7-adff-ab9d2bb53dfc",
   "metadata": {},
   "outputs": [
    {
     "data": {
      "text/plain": [
       "True"
      ]
     },
     "execution_count": 10,
     "metadata": {},
     "output_type": "execute_result"
    }
   ],
   "source": [
    "str=\"kljjj\"\n",
    "str.endswith('j')\n"
   ]
  },
  {
   "cell_type": "code",
   "execution_count": 11,
   "id": "6bfcf8a6-0128-44bb-b0a9-f54acff11163",
   "metadata": {},
   "outputs": [
    {
     "data": {
      "text/plain": [
       "'rthi'"
      ]
     },
     "execution_count": 11,
     "metadata": {},
     "output_type": "execute_result"
    }
   ],
   "source": [
    "str='karthik'\n",
    "str[-5:6]"
   ]
  },
  {
   "cell_type": "code",
   "execution_count": 14,
   "id": "10b22ac1-99be-4961-a1c7-a504c5b6e005",
   "metadata": {},
   "outputs": [
    {
     "data": {
      "text/plain": [
       "'science'"
      ]
     },
     "execution_count": 14,
     "metadata": {},
     "output_type": "execute_result"
    }
   ],
   "source": [
    "str2='pw skills data science'\n",
    "str2[-7:22]"
   ]
  },
  {
   "cell_type": "code",
   "execution_count": 15,
   "id": "986609d3-e204-450c-bb4a-a99c1156b139",
   "metadata": {},
   "outputs": [
    {
     "data": {
      "text/plain": [
       "'ecneics atad slliks wp'"
      ]
     },
     "execution_count": 15,
     "metadata": {},
     "output_type": "execute_result"
    }
   ],
   "source": [
    "str2='pw skills data science'\n",
    "str2[::-1]"
   ]
  },
  {
   "cell_type": "code",
   "execution_count": 16,
   "id": "ece64d44-2c5d-49bb-8bfc-14b8351eeaf7",
   "metadata": {},
   "outputs": [
    {
     "data": {
      "text/plain": [
       "'ecalw'"
      ]
     },
     "execution_count": 16,
     "metadata": {},
     "output_type": "execute_result"
    }
   ],
   "source": [
    "str2='pw skills data science'\n",
    "str2[::-5]"
   ]
  },
  {
   "cell_type": "code",
   "execution_count": 17,
   "id": "e8809a38-b514-4c7b-90d7-cb85abf2ab9e",
   "metadata": {},
   "outputs": [
    {
     "data": {
      "text/plain": [
       "'PW SKILLS DATA SCIENCE'"
      ]
     },
     "execution_count": 17,
     "metadata": {},
     "output_type": "execute_result"
    }
   ],
   "source": [
    "str2='pw skills data science'\n",
    "str2.swapcase()"
   ]
  },
  {
   "cell_type": "code",
   "execution_count": 18,
   "id": "1b424bea-f3c5-40b2-a0f8-2f49a5d6616e",
   "metadata": {},
   "outputs": [
    {
     "data": {
      "text/plain": [
       "'Pw skills data science'"
      ]
     },
     "execution_count": 18,
     "metadata": {},
     "output_type": "execute_result"
    }
   ],
   "source": [
    "str2='pw skills data science'\n",
    "str2.capitalize()"
   ]
  },
  {
   "cell_type": "code",
   "execution_count": 19,
   "id": "767ba9ea-e233-4322-b4c3-3dc75f88426b",
   "metadata": {},
   "outputs": [
    {
     "data": {
      "text/plain": [
       "'PW SKILLS DATA SCIENCE'"
      ]
     },
     "execution_count": 19,
     "metadata": {},
     "output_type": "execute_result"
    }
   ],
   "source": [
    "str2='pw skills data science'\n",
    "str2.upper()"
   ]
  },
  {
   "cell_type": "code",
   "execution_count": 20,
   "id": "d48564bf-15fa-474e-bd9f-430ec8160204",
   "metadata": {},
   "outputs": [
    {
     "data": {
      "text/plain": [
       "'pw skills data science'"
      ]
     },
     "execution_count": 20,
     "metadata": {},
     "output_type": "execute_result"
    }
   ],
   "source": [
    "str2='pw skills data science'\n",
    "str2.lower()"
   ]
  },
  {
   "cell_type": "code",
   "execution_count": null,
   "id": "c9e315b0-1f3d-432c-b701-f8474d4e7767",
   "metadata": {},
   "outputs": [],
   "source": []
  }
 ],
 "metadata": {
  "kernelspec": {
   "display_name": "Python 3 (ipykernel)",
   "language": "python",
   "name": "python3"
  },
  "language_info": {
   "codemirror_mode": {
    "name": "ipython",
    "version": 3
   },
   "file_extension": ".py",
   "mimetype": "text/x-python",
   "name": "python",
   "nbconvert_exporter": "python",
   "pygments_lexer": "ipython3",
   "version": "3.10.8"
  }
 },
 "nbformat": 4,
 "nbformat_minor": 5
}
