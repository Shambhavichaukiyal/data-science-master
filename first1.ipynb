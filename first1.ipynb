{
 "cells": [
  {
   "cell_type": "code",
   "execution_count": 1,
   "id": "3105bcc2-895f-47d6-99f2-01fad997532c",
   "metadata": {},
   "outputs": [
    {
     "name": "stdout",
     "output_type": "stream",
     "text": [
      "my age is :32\n"
     ]
    }
   ],
   "source": [
    "age = 32\n",
    "print(f\"my age is :{age}\")"
   ]
  },
  {
   "cell_type": "code",
   "execution_count": 4,
   "id": "34e6d9ff-a854-4144-a555-fdbaf773f760",
   "metadata": {},
   "outputs": [
    {
     "name": "stdin",
     "output_type": "stream",
     "text": [
      "enter your age 34\n"
     ]
    },
    {
     "name": "stdout",
     "output_type": "stream",
     "text": [
      "you are young blood\n"
     ]
    }
   ],
   "source": [
    "age=int(input(\"enter your age\"))\n",
    "if age>=18 and age<=45:\n",
    "  print(\"you are young blood\")"
   ]
  },
  {
   "cell_type": "code",
   "execution_count": 8,
   "id": "b2b59490-b813-45bc-b3ef-7313c4c3bcff",
   "metadata": {},
   "outputs": [
    {
     "name": "stdin",
     "output_type": "stream",
     "text": [
      "enter your age 67\n"
     ]
    },
    {
     "name": "stdout",
     "output_type": "stream",
     "text": [
      "you are old\n"
     ]
    }
   ],
   "source": [
    "age=int(input(\"enter your age\"))\n",
    "if age>=18 and age<=45:\n",
    "  print(\"you are young blood\")\n",
    "elif age<18:\n",
    "  print(\"you are a kid\")\n",
    "else:\n",
    "  print(\"you are old\")"
   ]
  },
  {
   "cell_type": "code",
   "execution_count": 5,
   "id": "96e36e56-7b5e-493f-8d7f-20655af90df9",
   "metadata": {},
   "outputs": [
    {
     "name": "stdin",
     "output_type": "stream",
     "text": [
      " fhgg\n"
     ]
    },
    {
     "data": {
      "text/plain": [
       "str"
      ]
     },
     "execution_count": 5,
     "metadata": {},
     "output_type": "execute_result"
    }
   ],
   "source": [
    "type(input())"
   ]
  },
  {
   "cell_type": "code",
   "execution_count": 11,
   "id": "f0caf4c5-8061-41e6-8860-5ae107379c47",
   "metadata": {},
   "outputs": [
    {
     "name": "stdin",
     "output_type": "stream",
     "text": [
      "enter your money 5000\n"
     ]
    },
    {
     "name": "stdout",
     "output_type": "stream",
     "text": [
      "discount given is 20 percentage\n",
      "discount prize is 4000.0\n"
     ]
    }
   ],
   "source": [
    "product=int(input(\"enter your money\"))\n",
    "if product>1000:\n",
    "   print(\"discount given is 20 percentage\")\n",
    "   prize=product-0.2*product\n",
    "   print(\"discount prize is\",prize)\n",
    "elif product<=1000:\n",
    "   print(\"discount given is 30 percentage\")\n",
    "   prize=product-0.3*product\n",
    "   print(\"discount prize is\",prize)\n",
    "else:\n",
    "   print(\"discount given is no \")\n",
    "   print(\"discount prize is\",product)\n",
    "   "
   ]
  },
  {
   "cell_type": "code",
   "execution_count": 2,
   "id": "e39294fb-68fb-4c20-864a-fd66db8979fa",
   "metadata": {},
   "outputs": [
    {
     "name": "stdin",
     "output_type": "stream",
     "text": [
      "enter 5666\n"
     ]
    },
    {
     "name": "stdout",
     "output_type": "stream",
     "text": [
      "5566\n",
      "5466\n",
      "5366\n",
      "5266\n",
      "5166\n",
      "5066\n",
      "4966\n",
      "4866\n",
      "4766\n",
      "4666\n",
      "4566\n",
      "4466\n",
      "4366\n",
      "4266\n",
      "4166\n",
      "4066\n",
      "3966\n",
      "3866\n",
      "3766\n",
      "3666\n",
      "3566\n",
      "3466\n",
      "3366\n",
      "3266\n",
      "3166\n",
      "3066\n",
      "2966\n",
      "2866\n",
      "2766\n",
      "2666\n",
      "2566\n",
      "2466\n",
      "2366\n",
      "2266\n",
      "2166\n",
      "2066\n",
      "1966\n",
      "1866\n",
      "1766\n",
      "1666\n",
      "1566\n",
      "1466\n",
      "1366\n",
      "1266\n",
      "1166\n",
      "1066\n",
      "966\n",
      "866\n",
      "766\n",
      "666\n",
      "566\n",
      "466\n",
      "366\n",
      "266\n",
      "166\n",
      "66\n",
      "-34\n"
     ]
    }
   ],
   "source": [
    "total=int(input(\"enter\"))\n",
    "while total>0:\n",
    "  total=total-100\n",
    "  print(total)  "
   ]
  },
  {
   "cell_type": "code",
   "execution_count": 4,
   "id": "6f8fb123-16ac-4fcd-a0cb-07bdfe0ea060",
   "metadata": {},
   "outputs": [
    {
     "name": "stdout",
     "output_type": "stream",
     "text": [
      "jk1234"
     ]
    }
   ],
   "source": [
    "lst=['j','k',1,2,3,4]\n",
    "for i in lst:\n",
    "  print(i)"
   ]
  },
  {
   "cell_type": "code",
   "execution_count": 5,
   "id": "a2ab7a06-6663-42cc-aef7-c08a4a8d8493",
   "metadata": {},
   "outputs": [
    {
     "name": "stdout",
     "output_type": "stream",
     "text": [
      "1\n",
      "2\n",
      "3\n",
      "4\n",
      "5\n",
      "6\n",
      "7\n",
      "8\n",
      "9\n"
     ]
    }
   ],
   "source": [
    "for i in range(1,10,1):\n",
    "    print(i)"
   ]
  },
  {
   "cell_type": "code",
   "execution_count": 9,
   "id": "ba410551-d5cc-49ac-9c80-81c01ce2fb95",
   "metadata": {},
   "outputs": [
    {
     "name": "stdout",
     "output_type": "stream",
     "text": [
      "\n",
      "\n",
      "*\n",
      "\n",
      "**\n",
      "\n",
      "***\n",
      "\n",
      "****\n",
      "\n",
      "*****\n",
      "\n",
      "******\n",
      "\n",
      "*******\n",
      "\n",
      "********\n",
      "\n",
      "*********\n",
      "\n"
     ]
    }
   ],
   "source": [
    "for i in range(0,10):\n",
    "  for j in range(0,i):\n",
    "    print(\"*\",end='')\n",
    "  print(\"\\n\")"
   ]
  },
  {
   "cell_type": "code",
   "execution_count": null,
   "id": "092a477d-6e49-42e7-ab9e-eebed607e742",
   "metadata": {},
   "outputs": [],
   "source": []
  }
 ],
 "metadata": {
  "kernelspec": {
   "display_name": "Python 3 (ipykernel)",
   "language": "python",
   "name": "python3"
  },
  "language_info": {
   "codemirror_mode": {
    "name": "ipython",
    "version": 3
   },
   "file_extension": ".py",
   "mimetype": "text/x-python",
   "name": "python",
   "nbconvert_exporter": "python",
   "pygments_lexer": "ipython3",
   "version": "3.10.8"
  }
 },
 "nbformat": 4,
 "nbformat_minor": 5
}
