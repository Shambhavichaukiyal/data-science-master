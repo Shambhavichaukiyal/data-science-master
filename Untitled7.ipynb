{
 "cells": [
  {
   "cell_type": "markdown",
   "id": "cb3cd22c-6735-4370-a477-163eed0adb51",
   "metadata": {},
   "source": [
    "Q1. Which keyword is used to create a function? Create a function to return a list of odd numbers in the\n",
    "range of 1 to 25."
   ]
  },
  {
   "cell_type": "markdown",
   "id": "9ceff550-9628-4b77-a57a-295136df9761",
   "metadata": {},
   "source": [
    "def keyword is used to create a function."
   ]
  },
  {
   "cell_type": "code",
   "execution_count": 5,
   "id": "6aae4326-3217-462b-944f-1650d5923da0",
   "metadata": {},
   "outputs": [
    {
     "data": {
      "text/plain": [
       "{4, 6, 8, 9, 10, 12, 14, 15, 16, 18, 20, 21, 22, 24, 25}"
      ]
     },
     "execution_count": 5,
     "metadata": {},
     "output_type": "execute_result"
    }
   ],
   "source": [
    "def odd():\n",
    "  n=[]\n",
    "  for i in range(1,26):\n",
    "    for j in range(2,i):\n",
    "      if i%j==0:\n",
    "        n.append(i)\n",
    "        s=set(n)\n",
    "  return s\n",
    "odd()"
   ]
  },
  {
   "cell_type": "markdown",
   "id": "c6519b7f-db50-40f2-b9f6-e8f67a81c503",
   "metadata": {},
   "source": [
    "Q2. Why *args and **kwargs is used in some functions? Create a function each for *args and **kwargs to\n",
    "demonstrate their use."
   ]
  },
  {
   "cell_type": "markdown",
   "id": "5fe49aac-7a6f-4b1a-979a-2f9cd6538ea7",
   "metadata": {},
   "source": [
    "*args is used to enter infinite value in form of tuple while **kwargs is used to enter infinite data in form of dictionary ."
   ]
  },
  {
   "cell_type": "code",
   "execution_count": 13,
   "id": "88eac59d-edf7-45d9-b09f-cddec8c48ecd",
   "metadata": {},
   "outputs": [
    {
     "name": "stdout",
     "output_type": "stream",
     "text": [
      "[1, 2, 3, 4, 5]\n"
     ]
    }
   ],
   "source": [
    "def test3(*args):\n",
    "    n=[]\n",
    "    for i in l:\n",
    "        if type(i)==int:\n",
    "            n.append(i)\n",
    "    return n\n",
    "l=(1,2,3,4,5,[5,6,7,8],\"joi\",\"koi\")\n",
    "s=test3(l)\n",
    "print(s)\n",
    " "
   ]
  },
  {
   "cell_type": "code",
   "execution_count": 18,
   "id": "8b86a598-b648-457d-9699-7a6706b253d9",
   "metadata": {},
   "outputs": [
    {
     "data": {
      "text/plain": [
       "[[1, 2, 2, 34, 7, 8], [1, 2, 3, 4, 5]]"
      ]
     },
     "execution_count": 18,
     "metadata": {},
     "output_type": "execute_result"
    }
   ],
   "source": [
    "def fly(*args):\n",
    "  n=[]\n",
    "  for i in l:\n",
    "    if type(i)==list:\n",
    "        n.append(i)\n",
    "  return n\n",
    "l=(1,2,3,4,5,6,[1,2,2,34,7,8],\"hoijhjh\",[1,2,3,4,5])\n",
    "fly(l)"
   ]
  },
  {
   "cell_type": "markdown",
   "id": "ee27d0d9-fb1d-4a39-8ab8-426e5692136f",
   "metadata": {},
   "source": [
    "Q3. What is an iterator in python? Name the method used to initialise the iterator object and the method\n",
    "used for iteration. Use these methods to print the first five elements of the given list [2, 4, 6, 8, 10, 12, 14, 16,\n",
    "18, 20]."
   ]
  },
  {
   "cell_type": "markdown",
   "id": "851f3109-7789-4b36-a9fb-6c8a723d7345",
   "metadata": {},
   "source": [
    "iterator in python can be define as expression which have iteration going on.iter() is used to iterate the iterator.__next__()is used to give next value of iterator."
   ]
  },
  {
   "cell_type": "markdown",
   "id": "6762c7a3-eae6-4bef-a074-5f33b266c073",
   "metadata": {},
   "source": [
    "t=(1,2,3,4,5,6,7,8,9)\n",
    "for i in t:\n",
    "    print(i)"
   ]
  },
  {
   "cell_type": "code",
   "execution_count": 26,
   "id": "94507329-7440-4870-926e-b9578d212e81",
   "metadata": {},
   "outputs": [
    {
     "name": "stdout",
     "output_type": "stream",
     "text": [
      "2\n",
      "4\n",
      "6\n",
      "8\n",
      "10\n",
      "12\n",
      "14\n",
      "16\n",
      "18\n",
      "20\n"
     ]
    }
   ],
   "source": [
    "lst=[2, 4, 6, 8, 10, 12, 14, 16, 18, 20]\n",
    "s=iter(lst)\n",
    "for i in range(0,len(lst)):\n",
    "   print(next(s))"
   ]
  },
  {
   "cell_type": "markdown",
   "id": "84c67bb7-8966-45bf-8eb7-6effd8ee9439",
   "metadata": {},
   "source": [
    "Q4. What is a generator function in python? Why yield keyword is used? Give an example of a generator\n",
    "function."
   ]
  },
  {
   "cell_type": "markdown",
   "id": "c4986cb6-6578-4259-96b0-aff4e1534e6a",
   "metadata": {},
   "source": [
    "generator function in python is a function that have yield instead of return."
   ]
  },
  {
   "cell_type": "code",
   "execution_count": 39,
   "id": "467310b9-e9c5-4e12-8f5e-0511b78e30df",
   "metadata": {},
   "outputs": [
    {
     "name": "stdout",
     "output_type": "stream",
     "text": [
      "0\n",
      "1\n",
      "1\n",
      "2\n",
      "3\n",
      "5\n",
      "8\n",
      "13\n",
      "21\n",
      "34\n",
      "55\n"
     ]
    }
   ],
   "source": [
    "def fib(a):\n",
    "    a,b=0,1\n",
    "    for i in range(0,11):\n",
    "         yield a\n",
    "         a,b=b,a+b\n",
    "for i in fib(10):\n",
    "    print(i)\n"
   ]
  },
  {
   "cell_type": "markdown",
   "id": "0cf1d9c6-1324-4082-943b-2575ff2e7450",
   "metadata": {},
   "source": [
    "Q5. Create a generator function for prime numbers less than 1000. Use the next() method to print the\n",
    "first 20 prime numbers."
   ]
  },
  {
   "cell_type": "code",
   "execution_count": null,
   "id": "7aa3e422-86ae-486a-9d29-d77f49bbed60",
   "metadata": {},
   "outputs": [],
   "source": [
    "def prime():\n",
    "    for i in range(1,1000):\n",
    "        for j in range(2,i):\n",
    "          if i%j==0:\n",
    "        yield i\n",
    "for i in pri(1,1000):\n",
    "    print"
   ]
  }
 ],
 "metadata": {
  "kernelspec": {
   "display_name": "Python 3 (ipykernel)",
   "language": "python",
   "name": "python3"
  },
  "language_info": {
   "codemirror_mode": {
    "name": "ipython",
    "version": 3
   },
   "file_extension": ".py",
   "mimetype": "text/x-python",
   "name": "python",
   "nbconvert_exporter": "python",
   "pygments_lexer": "ipython3",
   "version": "3.10.8"
  }
 },
 "nbformat": 4,
 "nbformat_minor": 5
}
