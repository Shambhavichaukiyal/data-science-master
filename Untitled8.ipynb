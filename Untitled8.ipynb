{
 "cells": [
  {
   "cell_type": "markdown",
   "id": "9edf8ecc-9611-4572-85da-02eb6360c6ab",
   "metadata": {},
   "source": [
    "Q1. Explain Class and Object with respect to Object-Oriented Programming. Give a suitable example."
   ]
  },
  {
   "cell_type": "markdown",
   "id": "179051ad-7f52-4e5a-9222-183ba75c52ee",
   "metadata": {},
   "source": [
    "class can be defined as a basic building block of a program  while object can be define as a reference or a way of calling a class."
   ]
  },
  {
   "cell_type": "code",
   "execution_count": 7,
   "id": "c839aca5-ad25-417e-8f03-9557f06e72e0",
   "metadata": {},
   "outputs": [
    {
     "data": {
      "text/plain": [
       "12"
      ]
     },
     "execution_count": 7,
     "metadata": {},
     "output_type": "execute_result"
    }
   ],
   "source": [
    "class test:\n",
    "    def add(self,a,b):\n",
    "      self.a=a\n",
    "      self.b=b\n",
    "    def adding(self):\n",
    "        return self.a+self.b\n",
    "rw=test()\n",
    "rw.add(5,7)\n",
    "rw.adding()\n"
   ]
  },
  {
   "cell_type": "markdown",
   "id": "9599e422-ba5b-428c-9d46-19af49897da4",
   "metadata": {},
   "source": [
    "Q2. Name the four pillars of OOPs."
   ]
  },
  {
   "cell_type": "markdown",
   "id": "6925386f-8380-469e-92c9-78a64fcca980",
   "metadata": {},
   "source": [
    "The 4 principle are\n",
    "encapsulation\n",
    "inheritance\n",
    "abstraction\n",
    "polymorphism"
   ]
  },
  {
   "cell_type": "markdown",
   "id": "faa35fc1-84dc-48c7-8927-3047adf78b9c",
   "metadata": {},
   "source": [
    "Q3. Explain why the __init__() function is used. Give a suitable example."
   ]
  },
  {
   "cell_type": "markdown",
   "id": "e5af7660-190a-467c-8ec5-a28c6ac3efdb",
   "metadata": {},
   "source": [
    "init() function is used for initilization."
   ]
  },
  {
   "cell_type": "code",
   "execution_count": 8,
   "id": "03bf76f2-ca54-4e1c-9d80-31fa0e72608e",
   "metadata": {},
   "outputs": [
    {
     "data": {
      "text/plain": [
       "12"
      ]
     },
     "execution_count": 8,
     "metadata": {},
     "output_type": "execute_result"
    }
   ],
   "source": [
    "class test:\n",
    "    def init(self,a,b):\n",
    "      self.a=a\n",
    "      self.b=b\n",
    "    def adding(self):\n",
    "        return self.a+self.b\n",
    "rw=test()\n",
    "rw.init(5,7)\n",
    "rw.adding()"
   ]
  },
  {
   "cell_type": "markdown",
   "id": "e3863acd-d88c-483d-88c0-af4846d28054",
   "metadata": {},
   "source": [
    "Q4. Why self is used in OOPs?"
   ]
  },
  {
   "cell_type": "markdown",
   "id": "d5a73570-897a-4316-bfb9-bb1fab29f8f4",
   "metadata": {},
   "source": [
    "self is used to link the variables."
   ]
  },
  {
   "cell_type": "markdown",
   "id": "e2d78a33-ad8f-45bb-85ad-f3afc26bfe77",
   "metadata": {},
   "source": [
    "Q5. What is inheritance? Give an example for each type of inheritance."
   ]
  },
  {
   "cell_type": "markdown",
   "id": "9e57990a-2912-4610-b932-8b0f4d0370cc",
   "metadata": {},
   "source": [
    "inheritance is the property of acquiring property of any other class."
   ]
  },
  {
   "cell_type": "code",
   "execution_count": 9,
   "id": "f73054f9-3bdd-404b-81bc-c2602d34e331",
   "metadata": {},
   "outputs": [
    {
     "name": "stdout",
     "output_type": "stream",
     "text": [
      "This function is in parent class.\n",
      "This function is in child class.\n"
     ]
    }
   ],
   "source": [
    "#single inheritance\n",
    "class Parent:\n",
    "\tdef func1(self):\n",
    "\t\tprint(\"This function is in parent class.\")\n",
    "\n",
    "\n",
    "class Child(Parent):\n",
    "\tdef func2(self):\n",
    "\t\tprint(\"This function is in child class.\")\n",
    "object = Child()\n",
    "object.func1()\n",
    "object.func2()\n"
   ]
  },
  {
   "cell_type": "code",
   "execution_count": null,
   "id": "f0c4e509-fee8-445f-b1b2-8582b8e05abc",
   "metadata": {},
   "outputs": [],
   "source": [
    "#hybrid inheritance\n",
    "class parent:\n",
    "    def fun1(self):\n",
    "        print(\"This function is in parent class.\")\n",
    "class child1(parent):\n",
    "    def fun2(self):\n",
    "        print(\"This function is in 1 child class.\")\n",
    "class child2(child1):\n",
    "    def func3(self):\n",
    "        print((\"This function is in 2 child class.\")\n",
    "object=child2()\n",
    "object."
   ]
  }
 ],
 "metadata": {
  "kernelspec": {
   "display_name": "Python 3 (ipykernel)",
   "language": "python",
   "name": "python3"
  },
  "language_info": {
   "codemirror_mode": {
    "name": "ipython",
    "version": 3
   },
   "file_extension": ".py",
   "mimetype": "text/x-python",
   "name": "python",
   "nbconvert_exporter": "python",
   "pygments_lexer": "ipython3",
   "version": "3.10.8"
  }
 },
 "nbformat": 4,
 "nbformat_minor": 5
}
