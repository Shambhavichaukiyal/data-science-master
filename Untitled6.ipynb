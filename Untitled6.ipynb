{
 "cells": [
  {
   "cell_type": "markdown",
   "id": "67305963-c335-494b-a6c0-a6c1df0a72ad",
   "metadata": {},
   "source": [
    "Q1. What are the characteristics of the tuples? Is tuple immutable?"
   ]
  },
  {
   "cell_type": "markdown",
   "id": "ca8397ef-d8cb-435f-bdcf-c43bb73d52dd",
   "metadata": {},
   "source": [
    "the characteristic of tuple is they are immutable that is unchangeable there value cannot be changed.\n",
    "yes they are immutable."
   ]
  },
  {
   "cell_type": "markdown",
   "id": "5283e417-94ef-44c6-b209-dbf34cc2a951",
   "metadata": {},
   "source": [
    "Q2. What are the two tuple methods in python? Give an example of each method. Give a reason why\n",
    "tuples have only two in-built methods as compared to Lists."
   ]
  },
  {
   "cell_type": "markdown",
   "id": "15d0cd18-420f-4219-981d-4cd41bc127fa",
   "metadata": {},
   "source": [
    "The two methods in tuples are index() and count()\n",
    "There are only two n-built methods as compared to Lists because list are mutable while tuples are immutable. "
   ]
  },
  {
   "cell_type": "code",
   "execution_count": 5,
   "id": "888b78c2-57d9-4111-8647-3caffd71f1b2",
   "metadata": {},
   "outputs": [
    {
     "name": "stdout",
     "output_type": "stream",
     "text": [
      "3\n"
     ]
    }
   ],
   "source": [
    "t=(1,2,3,4,5,6,5,4,4,3,3,3,3)\n",
    "s=t.index(4)\n",
    "print(s)"
   ]
  },
  {
   "cell_type": "code",
   "execution_count": 6,
   "id": "7c0d4a8a-69de-4534-b332-ca5963160ac2",
   "metadata": {},
   "outputs": [
    {
     "name": "stdout",
     "output_type": "stream",
     "text": [
      "3\n"
     ]
    }
   ],
   "source": [
    "t=(1,2,3,4,5,6,5,4,4,3,3,3,3)\n",
    "s=t.count(4)\n",
    "print(s)"
   ]
  },
  {
   "cell_type": "markdown",
   "id": "25dd9e52-6079-4393-9666-e514a11ddb81",
   "metadata": {},
   "source": [
    "Q3. Which collection datatypes in python do not allow duplicate items? Write a code using a set to remove\n",
    "duplicates from the given list."
   ]
  },
  {
   "cell_type": "markdown",
   "id": "9a7dce0d-21a8-4c77-a156-756f9d068247",
   "metadata": {},
   "source": [
    "Sets do not allow duplicate items.\n",
    "\n"
   ]
  },
  {
   "cell_type": "code",
   "execution_count": 9,
   "id": "a7f4698d-3576-4593-8d45-21b77f6b7ee9",
   "metadata": {},
   "outputs": [
    {
     "name": "stdout",
     "output_type": "stream",
     "text": [
      "{2, 3, 4, 5, 6, 7, 8, 9, 91}\n"
     ]
    }
   ],
   "source": [
    "t=(91,2,3,4,5,6,7,7,8,9)\n",
    "s=set(t)\n",
    "print(s)"
   ]
  },
  {
   "cell_type": "code",
   "execution_count": 10,
   "id": "51de61d6-b107-4153-9717-a90e773002a6",
   "metadata": {},
   "outputs": [
    {
     "name": "stdout",
     "output_type": "stream",
     "text": [
      "{1, 2, 3, 4}\n"
     ]
    }
   ],
   "source": [
    "List = [1, 1, 1, 2, 1, 3, 1, 4, 2, 1, 2, 2, 2, 3, 2, 4, 3, 1, 3, 2, 3, 3, 3, 4, 4, 1, 4, 2, 4, 3, 4, 4]\n",
    "s=set(List)\n",
    "print(s)"
   ]
  },
  {
   "cell_type": "markdown",
   "id": "3d20ae5b-b31a-4fe6-b8eb-bebc089e6b6c",
   "metadata": {},
   "source": [
    "Q4. Explain the difference between the union() and update() methods for a set. Give an example of\n",
    "each method."
   ]
  },
  {
   "cell_type": "markdown",
   "id": "ed6004eb-f95d-4efd-9c78-064f1af32d5b",
   "metadata": {},
   "source": [
    "The union() method in set is used to display elements of the first define set while update method is used to display elements of both set."
   ]
  },
  {
   "cell_type": "code",
   "execution_count": 6,
   "id": "b17dcb12-d1e5-446e-a86b-570a460321e2",
   "metadata": {},
   "outputs": [
    {
     "name": "stdout",
     "output_type": "stream",
     "text": [
      "{1, 2, 3, 4, 5, 6, 7, 8, 9}\n"
     ]
    }
   ],
   "source": [
    "s={1,2,3,4,5,5,6,7,8,9}\n",
    "t={10,11,12,13,14,15}\n",
    "s.union(t)\n",
    "print(s)"
   ]
  },
  {
   "cell_type": "code",
   "execution_count": 11,
   "id": "8be5ff89-08e4-4c52-b2ee-e6a4439def0d",
   "metadata": {},
   "outputs": [
    {
     "name": "stdout",
     "output_type": "stream",
     "text": [
      "{1, 2, 3, 4, 5, 6, 7, 8, 9, 10, 11, 12, 13, 14, 15}\n"
     ]
    }
   ],
   "source": [
    "s={1,2,3,4,5,5,6,7,8,9}\n",
    "t={10,11,12,13,14,15}\n",
    "t.update(s)\n",
    "print(t)"
   ]
  },
  {
   "cell_type": "markdown",
   "id": "a6fe0c45-526a-4c6f-b6f9-54f32e19a79f",
   "metadata": {},
   "source": [
    "Q5. What is a dictionary? Give an example. Also, state whether a dictionary is ordered or unordered."
   ]
  },
  {
   "cell_type": "markdown",
   "id": "9bb36a02-067f-44f4-bfef-2f4f33263f96",
   "metadata": {},
   "source": [
    "dictionary is a unordered coleection of key and value pair.\n"
   ]
  },
  {
   "cell_type": "code",
   "execution_count": 12,
   "id": "913c95a7-8ec6-46b2-b4ca-91f73b4dee5b",
   "metadata": {},
   "outputs": [
    {
     "name": "stdout",
     "output_type": "stream",
     "text": [
      "{1: 'ik', 2: 'ko', 3: 'ui', 4: 'iuhty', 5: 'poiihjh'}\n"
     ]
    }
   ],
   "source": [
    "dic={\n",
    "    1:\"ik\",\n",
    "    2:\"ko\",\n",
    "    3:\"ui\",\n",
    "    4:\"iuhty\",\n",
    "    5:\"poiihjh\"\n",
    "}\n",
    "print(dic)"
   ]
  },
  {
   "cell_type": "markdown",
   "id": "662c1647-528f-4fa0-b8e5-92f77c6e72da",
   "metadata": {},
   "source": [
    "dictionary is unordered collection"
   ]
  },
  {
   "cell_type": "markdown",
   "id": "bedb2568-a51f-4337-91ef-395eb41321b2",
   "metadata": {},
   "source": [
    "Q6. Can we create a nested dictionary? If so, please give an example by creating a simple one-level\n",
    "nested dictionary."
   ]
  },
  {
   "cell_type": "markdown",
   "id": "2b63d4ff-509b-4d67-9b05-0e4525ad03e6",
   "metadata": {},
   "source": [
    "yes we can create a nested dictionary."
   ]
  },
  {
   "cell_type": "code",
   "execution_count": 16,
   "id": "cdb583f8-b837-4338-8646-473c9d6ae95a",
   "metadata": {},
   "outputs": [
    {
     "name": "stdout",
     "output_type": "stream",
     "text": [
      "<class 'dict'>\n"
     ]
    }
   ],
   "source": [
    "dic={\n",
    "    1:\"ik\",\n",
    "    2:\"ko\",\n",
    "    3:\"ui\",\n",
    "    4:\"iuhty\",\n",
    "    5:{1:\"hi\",2:\"hello\",3:\"namaste\",4:\"pranam\"}\n",
    "}\n",
    "print(type(dic[5]))"
   ]
  },
  {
   "cell_type": "markdown",
   "id": "4f867e46-3dc8-431c-a911-d964cdae8323",
   "metadata": {},
   "source": [
    "Q7. Using setdefault() method, create key named topics in the given dictionary and also add the value of\n",
    "the key as this list ['Python', 'Machine Learning’, 'Deep Learning']"
   ]
  },
  {
   "cell_type": "code",
   "execution_count": 20,
   "id": "599e50b4-a71a-469f-8b4e-7b5cedc5c972",
   "metadata": {},
   "outputs": [
    {
     "name": "stdout",
     "output_type": "stream",
     "text": [
      "{'language': 'Python', 'course': 'Data Science Masters', 'topic': 'Machine Learning'}\n"
     ]
    }
   ],
   "source": [
    "dict1 = {'language' : 'Python', 'course': 'Data Science Masters'}\n",
    "dict1.setdefault('topic', \"Machine Learning\")\n",
    "print(dict1)"
   ]
  },
  {
   "cell_type": "markdown",
   "id": "4422707a-dc1c-4bd0-a668-e677c1a9f31f",
   "metadata": {},
   "source": [
    "Q8. What are the three view objects in dictionaries? Use the three in-built methods in python to display\n",
    "these three view objects for the given dictionary."
   ]
  },
  {
   "cell_type": "markdown",
   "id": "e8b7139f-722c-47ef-8fe5-7807d9dd4558",
   "metadata": {},
   "source": [
    "the view object in dictionary are items(),keys(),values().\n"
   ]
  },
  {
   "cell_type": "code",
   "execution_count": 21,
   "id": "13e5e3ba-f1dc-4e96-a1c6-7788270eed32",
   "metadata": {},
   "outputs": [
    {
     "data": {
      "text/plain": [
       "dict_keys(['language', 'course', 'topic'])"
      ]
     },
     "execution_count": 21,
     "metadata": {},
     "output_type": "execute_result"
    }
   ],
   "source": [
    "dict= {'language' : 'Python', 'course': 'Data Science Masters', 'topic': 'Machine Learning'}\n",
    "dict.keys()"
   ]
  },
  {
   "cell_type": "code",
   "execution_count": 22,
   "id": "9efa224f-7cb2-481b-af24-ed8739ff36d8",
   "metadata": {},
   "outputs": [
    {
     "data": {
      "text/plain": [
       "dict_values(['Python', 'Data Science Masters', 'Machine Learning'])"
      ]
     },
     "execution_count": 22,
     "metadata": {},
     "output_type": "execute_result"
    }
   ],
   "source": [
    "dict.values()"
   ]
  },
  {
   "cell_type": "code",
   "execution_count": 23,
   "id": "110748f3-7718-4787-8c3b-cfaa6826ce41",
   "metadata": {},
   "outputs": [
    {
     "data": {
      "text/plain": [
       "dict_items([('language', 'Python'), ('course', 'Data Science Masters'), ('topic', 'Machine Learning')])"
      ]
     },
     "execution_count": 23,
     "metadata": {},
     "output_type": "execute_result"
    }
   ],
   "source": [
    "dict.items()"
   ]
  },
  {
   "cell_type": "code",
   "execution_count": 24,
   "id": "4d359d55-a575-44db-86df-cfb39a56d6af",
   "metadata": {},
   "outputs": [
    {
     "data": {
      "text/plain": [
       "dict_keys(['Sport', 'Teams'])"
      ]
     },
     "execution_count": 24,
     "metadata": {},
     "output_type": "execute_result"
    }
   ],
   "source": [
    "dict1 = {'Sport': 'Cricket' , 'Teams': ['India', 'Australia', 'England', 'South Africa', 'Sri Lanka', 'New Zealand']}\n",
    "dict1.keys()"
   ]
  },
  {
   "cell_type": "code",
   "execution_count": 25,
   "id": "183faf53-1df8-42b1-b5b4-a8dd316c28eb",
   "metadata": {},
   "outputs": [
    {
     "data": {
      "text/plain": [
       "dict_values(['Cricket', ['India', 'Australia', 'England', 'South Africa', 'Sri Lanka', 'New Zealand']])"
      ]
     },
     "execution_count": 25,
     "metadata": {},
     "output_type": "execute_result"
    }
   ],
   "source": [
    "dict1.values()"
   ]
  },
  {
   "cell_type": "code",
   "execution_count": 26,
   "id": "5253e89e-b9a6-469a-a097-ead8e96639e3",
   "metadata": {},
   "outputs": [
    {
     "data": {
      "text/plain": [
       "dict_items([('Sport', 'Cricket'), ('Teams', ['India', 'Australia', 'England', 'South Africa', 'Sri Lanka', 'New Zealand'])])"
      ]
     },
     "execution_count": 26,
     "metadata": {},
     "output_type": "execute_result"
    }
   ],
   "source": [
    "dict1.items()"
   ]
  },
  {
   "cell_type": "code",
   "execution_count": null,
   "id": "4cf2bb79-5264-4239-bfa2-f5bb18452656",
   "metadata": {},
   "outputs": [],
   "source": []
  }
 ],
 "metadata": {
  "kernelspec": {
   "display_name": "Python 3 (ipykernel)",
   "language": "python",
   "name": "python3"
  },
  "language_info": {
   "codemirror_mode": {
    "name": "ipython",
    "version": 3
   },
   "file_extension": ".py",
   "mimetype": "text/x-python",
   "name": "python",
   "nbconvert_exporter": "python",
   "pygments_lexer": "ipython3",
   "version": "3.10.8"
  }
 },
 "nbformat": 4,
 "nbformat_minor": 5
}
